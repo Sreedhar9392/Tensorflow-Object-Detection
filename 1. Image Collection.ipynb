{
 "cells": [
  {
   "cell_type": "markdown",
   "metadata": {},
   "source": [
    "# 1. Import Dependencies"
   ]
  },
  {
   "cell_type": "code",
   "execution_count": 4,
   "metadata": {},
   "outputs": [
    {
     "name": "stdout",
     "output_type": "stream",
     "text": [
      "Requirement already satisfied: opencv-python in c:\\users\\pranav mishra\\desktop\\tensorflow object detection\\tfodcourse\\tfod\\lib\\site-packages (4.6.0.66)\n",
      "Requirement already satisfied: numpy>=1.14.5 in c:\\users\\pranav mishra\\desktop\\tensorflow object detection\\tfodcourse\\tfod\\lib\\site-packages (from opencv-python) (1.23.1)\n",
      "Note: you may need to restart the kernel to use updated packages.\n"
     ]
    }
   ],
   "source": [
    "%pip install opencv-python"
   ]
  },
  {
   "cell_type": "code",
   "execution_count": 6,
   "metadata": {},
   "outputs": [],
   "source": [
    "# Import opencv\n",
    "import cv2 \n",
    "\n",
    "# Import uuid\n",
    "import uuid  # Helps name our images uniquely\n",
    "\n",
    "# Import Operating System\n",
    "import os\n",
    "\n",
    "# Import time\n",
    "import time"
   ]
  },
  {
   "cell_type": "markdown",
   "metadata": {},
   "source": [
    "# 2. Define Images to Collect"
   ]
  },
  {
   "cell_type": "code",
   "execution_count": 7,
   "metadata": {},
   "outputs": [],
   "source": [
    "labels = ['thumbsup', 'thumbsdown', 'thankyou', 'livelong']\n",
    "number_imgs = 5"
   ]
  },
  {
   "cell_type": "markdown",
   "metadata": {},
   "source": [
    "# 3. Setup Folders "
   ]
  },
  {
   "cell_type": "code",
   "execution_count": 8,
   "metadata": {},
   "outputs": [],
   "source": [
    "IMAGES_PATH = os.path.join('Tensorflow', 'workspace', 'images', 'collectedimages')"
   ]
  },
  {
   "cell_type": "code",
   "execution_count": 9,
   "metadata": {},
   "outputs": [],
   "source": [
    "# os.name"
   ]
  },
  {
   "cell_type": "code",
   "execution_count": 11,
   "metadata": {},
   "outputs": [],
   "source": [
    "if not os.path.exists(IMAGES_PATH):\n",
    "    if os.name == 'posix': # Linux machine\n",
    "        !mkdir -p {IMAGES_PATH}\n",
    "    if os.name == 'nt':    # Windows machine\n",
    "        !mkdir {IMAGES_PATH}\n",
    "for label in labels:\n",
    "    path = os.path.join(IMAGES_PATH, label)\n",
    "    if not os.path.exists(path):\n",
    "        !mkdir {path}"
   ]
  },
  {
   "cell_type": "markdown",
   "metadata": {},
   "source": [
    "# 4. Capture Images"
   ]
  },
  {
   "cell_type": "code",
   "execution_count": 13,
   "metadata": {},
   "outputs": [
    {
     "data": {
      "text/plain": [
       "'Tensorflow\\\\workspace\\\\images\\\\collectedimages'"
      ]
     },
     "execution_count": 13,
     "metadata": {},
     "output_type": "execute_result"
    }
   ],
   "source": [
    "IMAGES_PATH"
   ]
  },
  {
   "cell_type": "code",
   "execution_count": 15,
   "metadata": {},
   "outputs": [
    {
     "name": "stdout",
     "output_type": "stream",
     "text": [
      "Collecting images for thumbsup\n",
      "Collecting image 0\n",
      "Collecting image 1\n",
      "Collecting image 2\n",
      "Collecting image 3\n",
      "Collecting image 4\n",
      "Collecting images for thumbsdown\n",
      "Collecting image 0\n",
      "Collecting image 1\n",
      "Collecting image 2\n",
      "Collecting image 3\n",
      "Collecting image 4\n",
      "Collecting images for thankyou\n",
      "Collecting image 0\n",
      "Collecting image 1\n",
      "Collecting image 2\n",
      "Collecting image 3\n",
      "Collecting image 4\n",
      "Collecting images for livelong\n",
      "Collecting image 0\n",
      "Collecting image 1\n",
      "Collecting image 2\n",
      "Collecting image 3\n",
      "Collecting image 4\n"
     ]
    }
   ],
   "source": [
    "for label in labels:\n",
    "    cap = cv2.VideoCapture(0) # Connects to our webcam or capture device\n",
    "    print('Collecting images for {}'.format(label))\n",
    "    time.sleep(5) # Gives us a break of 5 sec to change object position\n",
    "    for imgnum in range(number_imgs):\n",
    "        print('Collecting image {}'.format(imgnum))\n",
    "        ret, frame = cap.read()\n",
    "        imgname = os.path.join(IMAGES_PATH,label,label+'.'+'{}.jpg'.format(str(uuid.uuid1())))\n",
    "        cv2.imwrite(imgname, frame)\n",
    "        cv2.imshow('frame', frame)\n",
    "        time.sleep(2)\n",
    "\n",
    "        if cv2.waitKey(1) & 0xFF == ord('q'):\n",
    "            break\n",
    "cap.release()\n",
    "cv2.destroyAllWindows()"
   ]
  },
  {
   "cell_type": "markdown",
   "metadata": {},
   "source": [
    "# 5. Image Labelling"
   ]
  },
  {
   "cell_type": "code",
   "execution_count": 21,
   "metadata": {},
   "outputs": [
    {
     "name": "stdout",
     "output_type": "stream",
     "text": [
      "Requirement already satisfied: pyqt5 in c:\\users\\pranav mishra\\desktop\\tensorflow object detection\\tfodcourse\\tfod\\lib\\site-packages (5.15.7)\n",
      "Requirement already satisfied: lxml in c:\\users\\pranav mishra\\desktop\\tensorflow object detection\\tfodcourse\\tfod\\lib\\site-packages (4.9.1)\n",
      "Requirement already satisfied: PyQt5-Qt5>=5.15.0 in c:\\users\\pranav mishra\\desktop\\tensorflow object detection\\tfodcourse\\tfod\\lib\\site-packages (from pyqt5) (5.15.2)\n",
      "Requirement already satisfied: PyQt5-sip<13,>=12.11 in c:\\users\\pranav mishra\\desktop\\tensorflow object detection\\tfodcourse\\tfod\\lib\\site-packages (from pyqt5) (12.11.0)\n",
      "Note: you may need to restart the kernel to use updated packages.\n"
     ]
    }
   ],
   "source": [
    "%pip install --upgrade pyqt5 lxml"
   ]
  },
  {
   "cell_type": "code",
   "execution_count": 23,
   "metadata": {},
   "outputs": [],
   "source": [
    "LABELIMG_PATH = os.path.join('Tensorflow', 'labelling')"
   ]
  },
  {
   "cell_type": "code",
   "execution_count": 24,
   "metadata": {},
   "outputs": [],
   "source": [
    "if not os.path.exists(LABELIMG_PATH):\n",
    "    !mkdir {LABELIMG_PATH}\n",
    "    !git clone https://github.com/tzutalin/labelImg {LABELIMG_PATH}"
   ]
  },
  {
   "cell_type": "code",
   "execution_count": 25,
   "metadata": {},
   "outputs": [],
   "source": [
    "if os.name == 'posix':\n",
    "    !cd {LABELIMG_PATH} && make qt5py3\n",
    "if os.name =='nt':\n",
    "    !cd {LABELIMG_PATH} && pyrcc5 -o libs/resources.py resources.qrc"
   ]
  },
  {
   "cell_type": "code",
   "execution_count": 26,
   "metadata": {},
   "outputs": [
    {
     "name": "stdout",
     "output_type": "stream",
     "text": [
      "Image:C:\\Users\\Pranav Mishra\\Desktop\\Tensorflow Object Detection\\TFODCourse\\Tensorflow\\workspace\\images\\collectedimages\\thankyou\\thankyou.47bfdd50-1896-11ed-a85a-64bc5854dc0a.jpg -> Annotation:C:/Users/Pranav Mishra/Desktop/Tensorflow Object Detection/TFODCourse/Tensorflow/workspace/images/collectedimages/thankyou\\thankyou.47bfdd50-1896-11ed-a85a-64bc5854dc0a.xml\n",
      "Image:C:\\Users\\Pranav Mishra\\Desktop\\Tensorflow Object Detection\\TFODCourse\\Tensorflow\\workspace\\images\\collectedimages\\thankyou\\thankyou.468d0706-1896-11ed-a315-64bc5854dc0a.jpg -> Annotation:C:/Users/Pranav Mishra/Desktop/Tensorflow Object Detection/TFODCourse/Tensorflow/workspace/images/collectedimages/thankyou\\thankyou.468d0706-1896-11ed-a315-64bc5854dc0a.xml\n",
      "Image:C:\\Users\\Pranav Mishra\\Desktop\\Tensorflow Object Detection\\TFODCourse\\Tensorflow\\workspace\\images\\collectedimages\\thankyou\\thankyou.4424d212-1896-11ed-93d7-64bc5854dc0a.jpg -> Annotation:C:/Users/Pranav Mishra/Desktop/Tensorflow Object Detection/TFODCourse/Tensorflow/workspace/images/collectedimages/thankyou\\thankyou.4424d212-1896-11ed-93d7-64bc5854dc0a.xml\n",
      "Image:C:\\Users\\Pranav Mishra\\Desktop\\Tensorflow Object Detection\\TFODCourse\\Tensorflow\\workspace\\images\\collectedimages\\thankyou\\thankyou.45580821-1896-11ed-948d-64bc5854dc0a.jpg -> Annotation:C:/Users/Pranav Mishra/Desktop/Tensorflow Object Detection/TFODCourse/Tensorflow/workspace/images/collectedimages/thankyou\\thankyou.45580821-1896-11ed-948d-64bc5854dc0a.xml\n",
      "Image:C:\\Users\\Pranav Mishra\\Desktop\\Tensorflow Object Detection\\TFODCourse\\Tensorflow\\workspace\\images\\collectedimages\\thankyou\\thankyou.a7ad1352-1896-11ed-a8de-64bc5854dc0a.jpg -> Annotation:C:/Users/Pranav Mishra/Desktop/Tensorflow Object Detection/TFODCourse/Tensorflow/workspace/images/collectedimages/thankyou\\thankyou.a7ad1352-1896-11ed-a8de-64bc5854dc0a.xml\n",
      "Image:C:\\Users\\Pranav Mishra\\Desktop\\Tensorflow Object Detection\\TFODCourse\\Tensorflow\\workspace\\images\\collectedimages\\thankyou\\thankyou.a8e2083c-1896-11ed-aa0b-64bc5854dc0a.jpg -> Annotation:C:/Users/Pranav Mishra/Desktop/Tensorflow Object Detection/TFODCourse/Tensorflow/workspace/images/collectedimages/thankyou\\thankyou.a8e2083c-1896-11ed-aa0b-64bc5854dc0a.xml\n",
      "Image:C:\\Users\\Pranav Mishra\\Desktop\\Tensorflow Object Detection\\TFODCourse\\Tensorflow\\workspace\\images\\collectedimages\\thankyou\\thankyou.a67a5cf9-1896-11ed-afa5-64bc5854dc0a.jpg -> Annotation:C:/Users/Pranav Mishra/Desktop/Tensorflow Object Detection/TFODCourse/Tensorflow/workspace/images/collectedimages/thankyou\\thankyou.a67a5cf9-1896-11ed-afa5-64bc5854dc0a.xml\n",
      "Image:C:\\Users\\Pranav Mishra\\Desktop\\Tensorflow Object Detection\\TFODCourse\\Tensorflow\\workspace\\images\\collectedimages\\thankyou\\thankyou.a4123a98-1896-11ed-be51-64bc5854dc0a.jpg -> Annotation:C:/Users/Pranav Mishra/Desktop/Tensorflow Object Detection/TFODCourse/Tensorflow/workspace/images/collectedimages/thankyou\\thankyou.a4123a98-1896-11ed-be51-64bc5854dc0a.xml\n",
      "Image:C:\\Users\\Pranav Mishra\\Desktop\\Tensorflow Object Detection\\TFODCourse\\Tensorflow\\workspace\\images\\collectedimages\\thankyou\\thankyou.a545676d-1896-11ed-a410-64bc5854dc0a.jpg -> Annotation:C:/Users/Pranav Mishra/Desktop/Tensorflow Object Detection/TFODCourse/Tensorflow/workspace/images/collectedimages/thankyou\\thankyou.a545676d-1896-11ed-a410-64bc5854dc0a.xml\n",
      "Image:C:\\Users\\Pranav Mishra\\Desktop\\Tensorflow Object Detection\\TFODCourse\\Tensorflow\\workspace\\images\\collectedimages\\thumbsdown\\thumbsdown.3aadd5dd-1896-11ed-bde0-64bc5854dc0a.jpg -> Annotation:C:/Users/Pranav Mishra/Desktop/Tensorflow Object Detection/TFODCourse/Tensorflow/workspace/images/collectedimages/thumbsdown\\thumbsdown.3aadd5dd-1896-11ed-bde0-64bc5854dc0a.xml\n",
      "Image:C:\\Users\\Pranav Mishra\\Desktop\\Tensorflow Object Detection\\TFODCourse\\Tensorflow\\workspace\\images\\collectedimages\\thumbsdown\\thumbsdown.9a9ba6c1-1896-11ed-bf18-64bc5854dc0a.jpg -> Annotation:C:/Users/Pranav Mishra/Desktop/Tensorflow Object Detection/TFODCourse/Tensorflow/workspace/images/collectedimages/thumbsdown\\thumbsdown.9a9ba6c1-1896-11ed-bf18-64bc5854dc0a.xml\n",
      "Image:C:\\Users\\Pranav Mishra\\Desktop\\Tensorflow Object Detection\\TFODCourse\\Tensorflow\\workspace\\images\\collectedimages\\thumbsdown\\thumbsdown.9bcfe4d2-1896-11ed-91f6-64bc5854dc0a.jpg -> Annotation:C:/Users/Pranav Mishra/Desktop/Tensorflow Object Detection/TFODCourse/Tensorflow/workspace/images/collectedimages/thumbsdown\\thumbsdown.9bcfe4d2-1896-11ed-91f6-64bc5854dc0a.xml\n",
      "Image:C:\\Users\\Pranav Mishra\\Desktop\\Tensorflow Object Detection\\TFODCourse\\Tensorflow\\workspace\\images\\collectedimages\\thumbsdown\\thumbsdown.9d082bba-1896-11ed-b436-64bc5854dc0a.jpg -> Annotation:C:/Users/Pranav Mishra/Desktop/Tensorflow Object Detection/TFODCourse/Tensorflow/workspace/images/collectedimages/thumbsdown\\thumbsdown.9d082bba-1896-11ed-b436-64bc5854dc0a.xml\n",
      "Image:C:\\Users\\Pranav Mishra\\Desktop\\Tensorflow Object Detection\\TFODCourse\\Tensorflow\\workspace\\images\\collectedimages\\thumbsdown\\thumbsdown.3978cc8a-1896-11ed-bee7-64bc5854dc0a.jpg -> Annotation:C:/Users/Pranav Mishra/Desktop/Tensorflow Object Detection/TFODCourse/Tensorflow/workspace/images/collectedimages/thumbsdown\\thumbsdown.3978cc8a-1896-11ed-bee7-64bc5854dc0a.xml\n",
      "Image:C:\\Users\\Pranav Mishra\\Desktop\\Tensorflow Object Detection\\TFODCourse\\Tensorflow\\workspace\\images\\collectedimages\\thumbsdown\\thumbsdown.9834c817-1896-11ed-9cfd-64bc5854dc0a.jpg -> Annotation:C:/Users/Pranav Mishra/Desktop/Tensorflow Object Detection/TFODCourse/Tensorflow/workspace/images/collectedimages/thumbsdown\\thumbsdown.9834c817-1896-11ed-9cfd-64bc5854dc0a.xml\n",
      "Image:C:\\Users\\Pranav Mishra\\Desktop\\Tensorflow Object Detection\\TFODCourse\\Tensorflow\\workspace\\images\\collectedimages\\thumbsdown\\thumbsdown.9968d6a9-1896-11ed-a756-64bc5854dc0a.jpg -> Annotation:C:/Users/Pranav Mishra/Desktop/Tensorflow Object Detection/TFODCourse/Tensorflow/workspace/images/collectedimages/thumbsdown\\thumbsdown.9968d6a9-1896-11ed-a756-64bc5854dc0a.xml\n",
      "Image:C:\\Users\\Pranav Mishra\\Desktop\\Tensorflow Object Detection\\TFODCourse\\Tensorflow\\workspace\\images\\collectedimages\\thumbsup\\thumbsup.2eb7b401-1896-11ed-860c-64bc5854dc0a.jpg -> Annotation:C:/Users/Pranav Mishra/Desktop/Tensorflow Object Detection/TFODCourse/Tensorflow/workspace/images/collectedimages/thumbsup\\thumbsup.2eb7b401-1896-11ed-860c-64bc5854dc0a.xml\n",
      "Image:C:\\Users\\Pranav Mishra\\Desktop\\Tensorflow Object Detection\\TFODCourse\\Tensorflow\\workspace\\images\\collectedimages\\thumbsup\\thumbsup.8c3c9c2e-1896-11ed-a7a5-64bc5854dc0a.jpg -> Annotation:C:/Users/Pranav Mishra/Desktop/Tensorflow Object Detection/TFODCourse/Tensorflow/workspace/images/collectedimages/thumbsup\\thumbsup.8c3c9c2e-1896-11ed-a7a5-64bc5854dc0a.xml\n",
      "Image:C:\\Users\\Pranav Mishra\\Desktop\\Tensorflow Object Detection\\TFODCourse\\Tensorflow\\workspace\\images\\collectedimages\\thumbsup\\thumbsup.8d74d4b5-1896-11ed-8258-64bc5854dc0a.jpg -> Annotation:C:/Users/Pranav Mishra/Desktop/Tensorflow Object Detection/TFODCourse/Tensorflow/workspace/images/collectedimages/thumbsup\\thumbsup.8d74d4b5-1896-11ed-8258-64bc5854dc0a.xml\n",
      "Image:C:\\Users\\Pranav Mishra\\Desktop\\Tensorflow Object Detection\\TFODCourse\\Tensorflow\\workspace\\images\\collectedimages\\thumbsup\\thumbsup.8ea84099-1896-11ed-a5de-64bc5854dc0a.jpg -> Annotation:C:/Users/Pranav Mishra/Desktop/Tensorflow Object Detection/TFODCourse/Tensorflow/workspace/images/collectedimages/thumbsup\\thumbsup.8ea84099-1896-11ed-a5de-64bc5854dc0a.xml\n",
      "Image:C:\\Users\\Pranav Mishra\\Desktop\\Tensorflow Object Detection\\TFODCourse\\Tensorflow\\workspace\\images\\collectedimages\\thumbsup\\thumbsup.8fdaecec-1896-11ed-b55d-64bc5854dc0a.jpg -> Annotation:C:/Users/Pranav Mishra/Desktop/Tensorflow Object Detection/TFODCourse/Tensorflow/workspace/images/collectedimages/thumbsup\\thumbsup.8fdaecec-1896-11ed-b55d-64bc5854dc0a.xml\n",
      "Image:C:\\Users\\Pranav Mishra\\Desktop\\Tensorflow Object Detection\\TFODCourse\\Tensorflow\\workspace\\images\\collectedimages\\thumbsup\\thumbsup.910fecfd-1896-11ed-b405-64bc5854dc0a.jpg -> Annotation:C:/Users/Pranav Mishra/Desktop/Tensorflow Object Detection/TFODCourse/Tensorflow/workspace/images/collectedimages/thumbsup\\thumbsup.910fecfd-1896-11ed-b405-64bc5854dc0a.xml\n"
     ]
    }
   ],
   "source": [
    "!cd {LABELIMG_PATH} && python labelImg.py"
   ]
  },
  {
   "cell_type": "markdown",
   "metadata": {},
   "source": [
    "# 6. Move them into a Training and Testing Partition"
   ]
  },
  {
   "cell_type": "code",
   "execution_count": null,
   "metadata": {},
   "outputs": [],
   "source": [
    "TRAIN_PATH = os.path.join('Tensorflow', 'workspace', 'images', 'train')\n",
    "TEST_PATH = os.path.join('Tensorflow', 'workspace', 'images', 'test')\n",
    "ARCHIVE_PATH = os.path.join('Tensorflow', 'workspace', 'images', 'archive.tar.gz')"
   ]
  },
  {
   "cell_type": "code",
   "execution_count": null,
   "metadata": {},
   "outputs": [],
   "source": [
    "!tar -czf {ARCHIVE_PATH} {TRAIN_PATH} {TEST_PATH}"
   ]
  }
 ],
 "metadata": {
  "kernelspec": {
   "display_name": "tfod",
   "language": "python",
   "name": "tfod"
  },
  "language_info": {
   "codemirror_mode": {
    "name": "ipython",
    "version": 3
   },
   "file_extension": ".py",
   "mimetype": "text/x-python",
   "name": "python",
   "nbconvert_exporter": "python",
   "pygments_lexer": "ipython3",
   "version": "3.10.3"
  }
 },
 "nbformat": 4,
 "nbformat_minor": 2
}
